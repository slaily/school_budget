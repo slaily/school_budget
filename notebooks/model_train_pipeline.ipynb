{
 "cells": [
  {
   "cell_type": "code",
   "execution_count": 1,
   "id": "e47dbaa3",
   "metadata": {},
   "outputs": [],
   "source": [
    "import sys\n",
    "\n",
    "from os import getcwd\n",
    "from os.path import dirname, abspath\n",
    "\n",
    "\n",
    "sys.path.append(dirname((abspath(getcwd()))))"
   ]
  },
  {
   "cell_type": "code",
   "execution_count": 2,
   "id": "07b02a92",
   "metadata": {},
   "outputs": [],
   "source": [
    "from warnings import warn\n",
    "\n",
    "import numpy as np\n",
    "import pandas as pd\n",
    "\n",
    "# Import pipeline\n",
    "from sklearn.pipeline import Pipeline\n",
    "# Import classifiers\n",
    "from sklearn.linear_model import LogisticRegression\n",
    "from sklearn.multiclass import OneVsRestClassifier\n",
    "# Import CountVectorizer\n",
    "from sklearn.feature_extraction.text import CountVectorizer\n",
    "# Import the hashing vectorizer\n",
    "from sklearn.feature_extraction.text import HashingVectorizer\n",
    "# Import other preprocessing modules\n",
    "from sklearn.impute import SimpleImputer\n",
    "from sklearn.feature_selection import chi2, SelectKBest\n",
    "# Import functional utilities\n",
    "from sklearn.preprocessing import FunctionTransformer, MaxAbsScaler\n",
    "from sklearn.pipeline import FeatureUnion\n",
    "\n",
    "from school_budget.data import multilabel_sample_dataframe, multilabel_train_test_split, get_data_by_columns\n",
    "from school_budget.config import NUMERIC_COLUMNS, LABELS\n",
    "from school_budget.features import combine_text_columns, SparseInteractions"
   ]
  },
  {
   "cell_type": "code",
   "execution_count": 3,
   "id": "b1b36489",
   "metadata": {},
   "outputs": [],
   "source": [
    "df = pd.read_csv(\"../datasets/TrainingData.csv\", index_col=0)\n",
    "NON_LABELS = [c for c in df.columns if c not in LABELS]\n",
    "SAMPLE_SIZE = 40000\n",
    "sampling = multilabel_sample_dataframe(\n",
    "    df,\n",
    "    pd.get_dummies(df[LABELS]),\n",
    "    size=SAMPLE_SIZE,\n",
    "    min_count=25,\n",
    "    seed=43\n",
    ")\n",
    "dummy_labels = pd.get_dummies(sampling[LABELS])\n",
    "X_train, X_test, y_train, y_test = multilabel_train_test_split(\n",
    "    sampling[NON_LABELS],\n",
    "    dummy_labels,\n",
    "    0.2,\n",
    "    min_count=3,\n",
    "    seed=43\n",
    ")"
   ]
  },
  {
   "cell_type": "code",
   "execution_count": 4,
   "id": "87589bdc",
   "metadata": {},
   "outputs": [],
   "source": [
    "# Select 300 best features\n",
    "chi_k = 300\n",
    "# Perform preprocessing\n",
    "get_text_data = FunctionTransformer(combine_text_columns, validate=False)\n",
    "get_numeric_data = FunctionTransformer(get_data_by_columns, validate=False)\n",
    "\n",
    "# Create the token pattern: TOKENS_ALPHANUMERIC\n",
    "TOKENS_ALPHANUMERIC = '[A-Za-z0-9]+(?=\\\\s+)'\n",
    "\n",
    "# Instantiate pipeline: pl\n",
    "pl = Pipeline([\n",
    "        ('union', FeatureUnion(\n",
    "            transformer_list = [\n",
    "                ('numeric_features', Pipeline([\n",
    "                    ('selector', get_numeric_data),\n",
    "                    ('imputer', SimpleImputer())\n",
    "                ])),\n",
    "                ('text_features', Pipeline([\n",
    "                    ('selector', get_text_data),\n",
    "                    ('vectorizer', CountVectorizer(token_pattern=TOKENS_ALPHANUMERIC,\n",
    "                                                   ngram_range=(1, 2))),\n",
    "                    ('dim_red', SelectKBest(chi2, k=chi_k))\n",
    "                ]))\n",
    "             ]\n",
    "        )),\n",
    "        ('scale', MaxAbsScaler()),\n",
    "        ('clf', OneVsRestClassifier(LogisticRegression()))\n",
    "    ])"
   ]
  },
  {
   "cell_type": "code",
   "execution_count": 5,
   "id": "4120bda8",
   "metadata": {},
   "outputs": [
    {
     "data": {
      "text/plain": [
       "Pipeline(steps=[('union',\n",
       "                 FeatureUnion(transformer_list=[('numeric_features',\n",
       "                                                 Pipeline(steps=[('selector',\n",
       "                                                                  FunctionTransformer(func=<function get_data_by_columns at 0x12ea5fbe0>)),\n",
       "                                                                 ('imputer',\n",
       "                                                                  SimpleImputer())])),\n",
       "                                                ('text_features',\n",
       "                                                 Pipeline(steps=[('selector',\n",
       "                                                                  FunctionTransformer(func=<function combine_text_columns at 0x12ea5fd00>)),\n",
       "                                                                 ('vectorizer',\n",
       "                                                                  HashingVectorizer(alternate_sign=False,\n",
       "                                                                                    ngram_range=(1,\n",
       "                                                                                                 2),\n",
       "                                                                                    norm=None,\n",
       "                                                                                    token_pattern='[A-Za-z0-9]+(?=\\\\s+)')),\n",
       "                                                                 ('dim_red',\n",
       "                                                                  SelectKBest(k=300,\n",
       "                                                                              score_func=<function chi2 at 0x12ea5d2d0>))]))])),\n",
       "                ('int', SparseInteractions()), ('scale', MaxAbsScaler()),\n",
       "                ('clf',\n",
       "                 OneVsRestClassifier(estimator=LogisticRegression(max_iter=500)))])"
      ]
     },
     "execution_count": 5,
     "metadata": {},
     "output_type": "execute_result"
    }
   ],
   "source": [
    "# Instantiate the winning model pipeline: pl\n",
    "pl = Pipeline([\n",
    "        ('union', FeatureUnion(\n",
    "            transformer_list = [\n",
    "                ('numeric_features', Pipeline([\n",
    "                    ('selector', get_numeric_data),\n",
    "                    ('imputer', SimpleImputer())\n",
    "                ])),\n",
    "                ('text_features', Pipeline([\n",
    "                    ('selector', get_text_data),\n",
    "                    ('vectorizer', HashingVectorizer(token_pattern=TOKENS_ALPHANUMERIC,\n",
    "                                                     norm=None, binary=False, alternate_sign=False,\n",
    "                                                     ngram_range=(1, 2))),\n",
    "                    ('dim_red', SelectKBest(chi2, k=chi_k))\n",
    "                ]))\n",
    "             ]\n",
    "        )),\n",
    "        ('int', SparseInteractions(degree=2)),\n",
    "        ('scale', MaxAbsScaler()),\n",
    "        ('clf', OneVsRestClassifier(LogisticRegression(max_iter=500)))\n",
    "    ])\n",
    "pl.fit(X_train, y_train)"
   ]
  },
  {
   "cell_type": "code",
   "execution_count": 6,
   "id": "0a466027",
   "metadata": {},
   "outputs": [
    {
     "data": {
      "text/plain": [
       "['model-1.1.0.joblib']"
      ]
     },
     "execution_count": 6,
     "metadata": {},
     "output_type": "execute_result"
    }
   ],
   "source": [
    "from joblib import dump\n",
    "dump(pl, \"model-1.1.0.joblib\")"
   ]
  }
 ],
 "metadata": {
  "kernelspec": {
   "display_name": "Python 3 (ipykernel)",
   "language": "python",
   "name": "python3"
  },
  "language_info": {
   "codemirror_mode": {
    "name": "ipython",
    "version": 3
   },
   "file_extension": ".py",
   "mimetype": "text/x-python",
   "name": "python",
   "nbconvert_exporter": "python",
   "pygments_lexer": "ipython3",
   "version": "3.10.0"
  }
 },
 "nbformat": 4,
 "nbformat_minor": 5
}
