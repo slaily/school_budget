{
 "cells": [
  {
   "cell_type": "code",
   "execution_count": 1,
   "id": "2efc9f1a",
   "metadata": {},
   "outputs": [],
   "source": [
    "import sys\n",
    "\n",
    "from os import getcwd\n",
    "from os.path import dirname, abspath\n",
    "\n",
    "\n",
    "sys.path.append(dirname((abspath(getcwd()))))"
   ]
  },
  {
   "cell_type": "code",
   "execution_count": 2,
   "id": "268f46ff",
   "metadata": {},
   "outputs": [],
   "source": [
    "import pandas as pd\n",
    "\n",
    "from school_budget.config import NUMERIC_COLUMNS, LABELS\n",
    "from school_budget.data import multilabel_train_test_split\n",
    "\n",
    "\n",
    "df = pd.read_csv(\"../datasets/TrainingData.csv\", index_col=0)\n",
    "# Create the new DataFrame: numeric_data_only\n",
    "numeric_data_only = df[NUMERIC_COLUMNS].fillna(-1000)\n",
    "# Get labels and convert to dummy variables: label_dummies\n",
    "label_dummies = pd.get_dummies(df[LABELS])\n",
    "# Create training and test sets\n",
    "X_train, X_test, y_train, y_test = multilabel_train_test_split(\n",
    "    numeric_data_only,\n",
    "    label_dummies,\n",
    "    size=0.2, \n",
    "    seed=123,\n",
    "    min_count=5\n",
    ")"
   ]
  },
  {
   "cell_type": "code",
   "execution_count": 3,
   "id": "b9393a87",
   "metadata": {},
   "outputs": [
    {
     "name": "stdout",
     "output_type": "stream",
     "text": [
      "Accuracy: 0.0\n"
     ]
    },
    {
     "data": {
      "text/plain": [
       "['classifier-1.0.0.joblib']"
      ]
     },
     "execution_count": 3,
     "metadata": {},
     "output_type": "execute_result"
    }
   ],
   "source": [
    "from sklearn.linear_model import LogisticRegression\n",
    "from sklearn.multiclass import OneVsRestClassifier\n",
    "\n",
    "from joblib import dump\n",
    "\n",
    "MODEL_FILE = \"classifier-1.0.0.joblib\"\n",
    "# Instantiate the classifier: clf\n",
    "clf = OneVsRestClassifier(LogisticRegression())\n",
    "# Fit the classifier to the training data\n",
    "clf.fit(X_train, y_train)\n",
    "# Print the accuracy\n",
    "print(\"Accuracy: {}\".format(clf.score(X_test, y_test)))\n",
    "# Persist the trained model\n",
    "dump(clf, MODEL_FILE)"
   ]
  }
 ],
 "metadata": {
  "kernelspec": {
   "display_name": "Python 3 (ipykernel)",
   "language": "python",
   "name": "python3"
  },
  "language_info": {
   "codemirror_mode": {
    "name": "ipython",
    "version": 3
   },
   "file_extension": ".py",
   "mimetype": "text/x-python",
   "name": "python",
   "nbconvert_exporter": "python",
   "pygments_lexer": "ipython3",
   "version": "3.10.0"
  }
 },
 "nbformat": 4,
 "nbformat_minor": 5
}
