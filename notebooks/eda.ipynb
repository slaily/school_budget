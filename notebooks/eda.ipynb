{
 "cells": [
  {
   "cell_type": "code",
   "execution_count": 2,
   "id": "72dae909",
   "metadata": {},
   "outputs": [
    {
     "name": "stderr",
     "output_type": "stream",
     "text": [
      "/Users/slaily/.local/share/virtualenvs/school_budget-dhmayhNO/lib/python3.10/site-packages/pandas/compat/__init__.py:124: UserWarning: Could not import the lzma module. Your installed Python is incomplete. Attempting to use lzma compression will result in a RuntimeError.\n",
      "  warnings.warn(msg)\n"
     ]
    }
   ],
   "source": [
    "import pandas as pd"
   ]
  },
  {
   "cell_type": "code",
   "execution_count": 3,
   "id": "43e25af7",
   "metadata": {},
   "outputs": [],
   "source": [
    "# Load Training Data\n",
    "training_data_path = \"../datasets/TrainingData.csv\"\n",
    "training_data = pd.read_csv(training_data_path, index_col=0)"
   ]
  },
  {
   "cell_type": "code",
   "execution_count": 4,
   "id": "1a2ae0b0",
   "metadata": {},
   "outputs": [
    {
     "name": "stdout",
     "output_type": "stream",
     "text": [
      "<class 'pandas.core.frame.DataFrame'>\n",
      "Int64Index: 400277 entries, 134338 to 415831\n",
      "Data columns (total 25 columns):\n",
      " #   Column                  Non-Null Count   Dtype  \n",
      "---  ------                  --------------   -----  \n",
      " 0   Function                400277 non-null  object \n",
      " 1   Use                     400277 non-null  object \n",
      " 2   Sharing                 400277 non-null  object \n",
      " 3   Reporting               400277 non-null  object \n",
      " 4   Student_Type            400277 non-null  object \n",
      " 5   Position_Type           400277 non-null  object \n",
      " 6   Object_Type             400277 non-null  object \n",
      " 7   Pre_K                   400277 non-null  object \n",
      " 8   Operating_Status        400277 non-null  object \n",
      " 9   Object_Description      375493 non-null  object \n",
      " 10  Text_2                  88217 non-null   object \n",
      " 11  SubFund_Description     306855 non-null  object \n",
      " 12  Job_Title_Description   292743 non-null  object \n",
      " 13  Text_3                  109152 non-null  object \n",
      " 14  Text_4                  53746 non-null   object \n",
      " 15  Sub_Object_Description  91603 non-null   object \n",
      " 16  Location_Description    162054 non-null  object \n",
      " 17  FTE                     126071 non-null  float64\n",
      " 18  Function_Description    342195 non-null  object \n",
      " 19  Facility_or_Department  53886 non-null   object \n",
      " 20  Position_Extra          264764 non-null  object \n",
      " 21  Total                   395722 non-null  float64\n",
      " 22  Program_Description     304660 non-null  object \n",
      " 23  Fund_Description        202877 non-null  object \n",
      " 24  Text_1                  292285 non-null  object \n",
      "dtypes: float64(2), object(23)\n",
      "memory usage: 79.4+ MB\n",
      "None\n",
      "                       Function          Use          Sharing Reporting  \\\n",
      "134338     Teacher Compensation  Instruction  School Reported    School   \n",
      "206341                 NO_LABEL     NO_LABEL         NO_LABEL  NO_LABEL   \n",
      "326408     Teacher Compensation  Instruction  School Reported    School   \n",
      "364634  Substitute Compensation  Instruction  School Reported    School   \n",
      "47683   Substitute Compensation  Instruction  School Reported    School   \n",
      "\n",
      "       Student_Type Position_Type               Object_Type     Pre_K  \\\n",
      "134338     NO_LABEL       Teacher                  NO_LABEL  NO_LABEL   \n",
      "206341     NO_LABEL      NO_LABEL                  NO_LABEL  NO_LABEL   \n",
      "326408  Unspecified       Teacher  Base Salary/Compensation  Non PreK   \n",
      "364634  Unspecified    Substitute                  Benefits  NO_LABEL   \n",
      "47683   Unspecified       Teacher   Substitute Compensation  NO_LABEL   \n",
      "\n",
      "         Operating_Status            Object_Description  ...  \\\n",
      "134338  PreK-12 Operating                           NaN  ...   \n",
      "206341      Non-Operating           CONTRACTOR SERVICES  ...   \n",
      "326408  PreK-12 Operating  Personal Services - Teachers  ...   \n",
      "364634  PreK-12 Operating             EMPLOYEE BENEFITS  ...   \n",
      "47683   PreK-12 Operating  TEACHER COVERAGE FOR TEACHER  ...   \n",
      "\n",
      "       Sub_Object_Description Location_Description  FTE  \\\n",
      "134338                    NaN                  NaN  1.0   \n",
      "206341                    NaN                  NaN  NaN   \n",
      "326408                    NaN                  NaN  1.0   \n",
      "364634                    NaN                  NaN  NaN   \n",
      "47683                     NaN                  NaN  NaN   \n",
      "\n",
      "           Function_Description Facility_or_Department  \\\n",
      "134338                      NaN                    NaN   \n",
      "206341                 RGN  GOB                    NaN   \n",
      "326408                      NaN                    NaN   \n",
      "364634  UNALLOC BUDGETS/SCHOOLS                    NaN   \n",
      "47683               NON-PROJECT                    NaN   \n",
      "\n",
      "                    Position_Extra      Total             Program_Description  \\\n",
      "134338               KINDERGARTEN   50471.810                    KINDERGARTEN   \n",
      "206341                UNDESIGNATED   3477.860   BUILDING IMPROVEMENT SERVICES   \n",
      "326408                     TEACHER  62237.130           Instruction - Regular   \n",
      "364634  PROFESSIONAL-INSTRUCTIONAL     22.300  GENERAL MIDDLE/JUNIOR HIGH SCH   \n",
      "47683   PROFESSIONAL-INSTRUCTIONAL     54.166   GENERAL HIGH SCHOOL EDUCATION   \n",
      "\n",
      "              Fund_Description                         Text_1  \n",
      "134338            General Fund                            NaN  \n",
      "206341                     NaN  BUILDING IMPROVEMENT SERVICES  \n",
      "326408  General Purpose School                            NaN  \n",
      "364634                     NaN            REGULAR INSTRUCTION  \n",
      "47683                      NaN            REGULAR INSTRUCTION  \n",
      "\n",
      "[5 rows x 25 columns]\n",
      "                            Function          Use                    Sharing  \\\n",
      "109283      Professional Development         ISPD            Shared Services   \n",
      "102430       Substitute Compensation  Instruction            School Reported   \n",
      "413949  Parent & Community Relations     NO_LABEL            School Reported   \n",
      "433672               Library & Media  Instruction  School on Central Budgets   \n",
      "415831       Substitute Compensation  Instruction            School Reported   \n",
      "\n",
      "         Reporting Student_Type        Position_Type  \\\n",
      "109283  Non-School  Unspecified  Instructional Coach   \n",
      "102430      School  Unspecified           Substitute   \n",
      "413949      School     NO_LABEL                Other   \n",
      "433672  Non-School  Unspecified            Librarian   \n",
      "415831      School      Poverty           Substitute   \n",
      "\n",
      "                       Object_Type     Pre_K   Operating_Status  \\\n",
      "109283  Other Compensation/Stipend  NO_LABEL  PreK-12 Operating   \n",
      "102430    Base Salary/Compensation  NO_LABEL  PreK-12 Operating   \n",
      "413949                    NO_LABEL  NO_LABEL  PreK-12 Operating   \n",
      "433672                    Benefits  NO_LABEL  PreK-12 Operating   \n",
      "415831     Substitute Compensation  Non PreK  PreK-12 Operating   \n",
      "\n",
      "                                     Object_Description  ...  \\\n",
      "109283                   WORKSHOP PARTICIPANT            ...   \n",
      "102430                   SALARIES OF PART TIME EMPLOYEE  ...   \n",
      "413949                                              NaN  ...   \n",
      "433672                                EMPLOYEE BENEFITS  ...   \n",
      "415831  Salaries And Wages For Substitute Professionals  ...   \n",
      "\n",
      "                            Sub_Object_Description  \\\n",
      "109283                                         NaN   \n",
      "102430                                         NaN   \n",
      "413949                                         NaN   \n",
      "433672                                         NaN   \n",
      "415831  Inservice Substitute Teachers Grant Funded   \n",
      "\n",
      "                  Location_Description      FTE  \\\n",
      "109283  STAFF DEV AND INSTR MEDIA           NaN   \n",
      "102430                             NaN  0.00431   \n",
      "413949                             NaN  1.00000   \n",
      "433672            ED RESOURCE SERVICES      NaN   \n",
      "415831                         School       NaN   \n",
      "\n",
      "                  Function_Description      Facility_or_Department  \\\n",
      "109283  INST STAFF TRAINING SVCS                               NaN   \n",
      "102430                      TITLE II,D                         NaN   \n",
      "413949                             NaN                         NaN   \n",
      "433672                     NON-PROJECT                         NaN   \n",
      "415831                     Instruction  Instruction And Curriculum   \n",
      "\n",
      "                       Position_Extra        Total  \\\n",
      "109283                            NaN    48.620000   \n",
      "102430     PROFESSIONAL-INSTRUCTIONAL   128.824985   \n",
      "413949                 PARENT/TITLE I  4902.290000   \n",
      "433672  OFFICE/ADMINISTRATIVE SUPPORT  4020.290000   \n",
      "415831           CERTIFIED SUBSTITUTE    46.530000   \n",
      "\n",
      "                 Program_Description  \\\n",
      "109283                           NaN   \n",
      "102430  INSTRUCTIONAL STAFF TRAINING   \n",
      "413949                          Misc   \n",
      "433672        MEDIA SUPPORT SERVICES   \n",
      "415831         Accelerated Education   \n",
      "\n",
      "                                Fund_Description  \\\n",
      "109283            GENERAL FUND                     \n",
      "102430                                       NaN   \n",
      "413949                        Schoolwide Schools   \n",
      "433672                                       NaN   \n",
      "415831  \"Title  Part A Improving Basic Programs\"   \n",
      "\n",
      "                                Text_1  \n",
      "109283  STAFF DEV AND INSTR MEDIA       \n",
      "102430             INSTRUCTIONAL STAFF  \n",
      "413949                             NaN  \n",
      "433672             INSTRUCTIONAL STAFF  \n",
      "415831                  MISCELLANEOUS   \n",
      "\n",
      "[5 rows x 25 columns]\n"
     ]
    }
   ],
   "source": [
    "# Explore Training Data\n",
    "print(training_data.info())\n",
    "print(training_data.head())\n",
    "print(training_data.tail())"
   ]
  },
  {
   "cell_type": "code",
   "execution_count": 5,
   "id": "a2d6059c",
   "metadata": {},
   "outputs": [
    {
     "data": {
      "text/plain": [
       "object     23\n",
       "float64     2\n",
       "dtype: int64"
      ]
     },
     "execution_count": 5,
     "metadata": {},
     "output_type": "execute_result"
    }
   ],
   "source": [
    "training_data.dtypes.value_counts()"
   ]
  },
  {
   "cell_type": "code",
   "execution_count": 6,
   "id": "ac1cc792",
   "metadata": {},
   "outputs": [
    {
     "name": "stdout",
     "output_type": "stream",
     "text": [
      "Function                  category\n",
      "Use                       category\n",
      "Sharing                   category\n",
      "Reporting                 category\n",
      "Student_Type              category\n",
      "Position_Type             category\n",
      "Object_Type               category\n",
      "Pre_K                     category\n",
      "Operating_Status          category\n",
      "Object_Description          object\n",
      "Text_2                      object\n",
      "SubFund_Description         object\n",
      "Job_Title_Description       object\n",
      "Text_3                      object\n",
      "Text_4                      object\n",
      "Sub_Object_Description      object\n",
      "Location_Description        object\n",
      "FTE                        float64\n",
      "Function_Description        object\n",
      "Facility_or_Department      object\n",
      "Position_Extra              object\n",
      "Total                      float64\n",
      "Program_Description         object\n",
      "Fund_Description            object\n",
      "Text_1                      object\n",
      "dtype: object\n"
     ]
    }
   ],
   "source": [
    "LABELS = [\n",
    "    'Function',\n",
    "    'Use',\n",
    "    'Sharing',\n",
    "    'Reporting',\n",
    "    'Student_Type',\n",
    "    'Position_Type',\n",
    "    'Object_Type',\n",
    "    'Pre_K',\n",
    "    'Operating_Status'\n",
    "]\n",
    "training_data[LABELS].head()\n",
    "# Define the lambda function: categorize_label\n",
    "categorize_label = lambda x: x.astype('category')\n",
    "\n",
    "# Convert df[LABELS] to a categorical type instead of keep them as objects\n",
    "training_data[LABELS] = training_data[LABELS].apply(categorize_label, axis=0)\n",
    "\n",
    "# Print the converted dtypes\n",
    "print(training_data.dtypes)\n"
   ]
  },
  {
   "cell_type": "code",
   "execution_count": 7,
   "id": "541e1a31",
   "metadata": {},
   "outputs": [
    {
     "data": {
      "image/png": "[encoded data removed]",
      "text/plain": [
       "<Figure size 432x288 with 1 Axes>"
      ]
     },
     "metadata": {
      "needs_background": "light"
     },
     "output_type": "display_data"
    }
   ],
   "source": [
    "# Import matplotlib.pyplot\n",
    "import matplotlib.pyplot as plt\n",
    "\n",
    "# Calculate number of unique values for each label: num_unique_labels\n",
    "num_unique_labels = training_data[LABELS].apply(pd.Series.nunique)\n",
    "\n",
    "# Plot number of unique values for each label\n",
    "num_unique_labels.plot(kind='bar')\n",
    "\n",
    "# Label the axes\n",
    "plt.xlabel('Labels')\n",
    "plt.ylabel('Number of unique values')\n",
    "\n",
    "# Display the plot\n",
    "plt.show()"
   ]
  },
  {
   "cell_type": "code",
   "execution_count": 9,
   "id": "f510d3f3",
   "metadata": {},
   "outputs": [
    {
     "name": "stdout",
     "output_type": "stream",
     "text": [
      "Log loss, correct and confident: 0.05129329438755058\n",
      "Log loss, correct and not confident: 0.4307829160924542\n",
      "Log loss, wrong and not confident: 1.049822124498678\n",
      "Log loss, wrong and confident: 2.9957322735539904\n",
      "Log loss, actual labels: 9.99200722162646e-15\n"
     ]
    }
   ],
   "source": [
    "# Evaluation metric\n",
    "import numpy as np\n",
    "\n",
    "def compute_log_loss(predicted, actual, eps=1e-14):\n",
    "    \"\"\"\n",
    "    Computes the logarithmic loss between predicted and actual when these are 1D arrays.\n",
    "    \n",
    "    :param predicted: The predicted probabilities as floats between 0-1\n",
    "    :param actual: The actual binary labels. Either 0 or 1.\n",
    "    :param eps (optional): log(0) is inf, so we need to offset our predicted values slightly by eps from 0 or 1.\n",
    "    \"\"\"    \n",
    "    predicted = np.clip(predicted, eps, 1 - eps)    \n",
    "    loss = -1 * np.mean(actual * np.log(predicted) + (1 - actual) * np.log(1 - predicted))\n",
    "    \n",
    "    return loss\n",
    "\n",
    "# Experiments with pre defined arrays\n",
    "actual_labels = np.array([1., 1., 1., 1., 1., 0., 0., 0., 0., 0.])\n",
    "correct_confident = np.array([0.95, 0.95, 0.95, 0.95, 0.95, 0.05, 0.05, 0.05, 0.05, 0.05])\n",
    "correct_not_confident = np.array([0.65, 0.65, 0.65, 0.65, 0.65, 0.35, 0.35, 0.35, 0.35, 0.35])\n",
    "wrong_not_confident = np.array([0.35, 0.35, 0.35, 0.35, 0.35, 0.65, 0.65, 0.65, 0.65, 0.65])\n",
    "wrong_confident = np.array([0.05, 0.05, 0.05, 0.05, 0.05, 0.95, 0.95, 0.95, 0.95, 0.95])\n",
    "# Compute and print log loss for 1st case\n",
    "correct_confident_loss = compute_log_loss(correct_confident, actual_labels)\n",
    "print(\"Log loss, correct and confident: {}\".format(correct_confident_loss)) \n",
    "# Compute log loss for 2nd case\n",
    "correct_not_confident_loss = compute_log_loss(correct_not_confident, actual_labels)\n",
    "print(\"Log loss, correct and not confident: {}\".format(correct_not_confident_loss)) \n",
    "# Compute and print log loss for 3rd case\n",
    "wrong_not_confident_loss = compute_log_loss(wrong_not_confident, actual_labels)\n",
    "print(\"Log loss, wrong and not confident: {}\".format(wrong_not_confident_loss)) \n",
    "# Compute and print log loss for 4th case\n",
    "wrong_confident_loss = compute_log_loss(wrong_confident, actual_labels)\n",
    "print(\"Log loss, wrong and confident: {}\".format(wrong_confident_loss)) \n",
    "# Compute and print log loss for actual labels\n",
    "actual_labels_loss = compute_log_loss(actual_labels, actual_labels)\n",
    "print(\"Log loss, actual labels: {}\".format(actual_labels_loss)) \n"
   ]
  },
  {
   "cell_type": "code",
   "execution_count": null,
   "id": "d3dda7eb",
   "metadata": {},
   "outputs": [],
   "source": []
  }
 ],
 "metadata": {
  "kernelspec": {
   "display_name": "Python 3 (ipykernel)",
   "language": "python",
   "name": "python3"
  },
  "language_info": {
   "codemirror_mode": {
    "name": "ipython",
    "version": 3
   },
   "file_extension": ".py",
   "mimetype": "text/x-python",
   "name": "python",
   "nbconvert_exporter": "python",
   "pygments_lexer": "ipython3",
   "version": "3.10.0"
  }
 },
 "nbformat": 4,
 "nbformat_minor": 5
}
