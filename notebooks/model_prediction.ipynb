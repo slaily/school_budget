{
 "cells": [
  {
   "cell_type": "code",
   "execution_count": 1,
   "id": "a8c27c22",
   "metadata": {},
   "outputs": [],
   "source": [
    "import sys\n",
    "\n",
    "from os import getcwd\n",
    "from os.path import dirname, abspath\n",
    "\n",
    "# Append the root directory to recognize the modules\n",
    "sys.path.append(dirname((abspath(getcwd()))))"
   ]
  },
  {
   "cell_type": "code",
   "execution_count": 2,
   "id": "542931b7",
   "metadata": {},
   "outputs": [],
   "source": [
    "import numpy as np\n",
    "import pandas as pd\n",
    "\n",
    "from joblib import load\n",
    "\n",
    "from school_budget.config import CATEGORIES\n",
    "from school_budget.data import multilabel_sample_dataframe, multilabel_train_test_split\n",
    "from school_budget.models import predict, top_n_predictions_ids, format_predictions"
   ]
  },
  {
   "cell_type": "code",
   "execution_count": 3,
   "id": "394e7bdd",
   "metadata": {},
   "outputs": [],
   "source": [
    "df = pd.read_csv(\"../datasets/TrainingData.csv\", index_col=0)\n",
    "NON_LABELS = [c for c in df.columns if c not in CATEGORIES]\n",
    "SAMPLE_SIZE = 40000\n",
    "sampling = multilabel_sample_dataframe(\n",
    "    df,\n",
    "    pd.get_dummies(df[CATEGORIES]),\n",
    "    size=SAMPLE_SIZE,\n",
    "    min_count=25,\n",
    "    seed=43\n",
    ")\n",
    "dummy_labels = pd.get_dummies(sampling[CATEGORIES])\n",
    "X_train, X_test, y_train, y_test = multilabel_train_test_split(\n",
    "    sampling[NON_LABELS],\n",
    "    dummy_labels,\n",
    "    0.2,\n",
    "    min_count=3,\n",
    "    seed=43\n",
    ")"
   ]
  },
  {
   "cell_type": "code",
   "execution_count": 4,
   "id": "8e5b7db0",
   "metadata": {},
   "outputs": [],
   "source": [
    "model = load(\"model-1.1.0.joblib\")\n",
    "predictions = predict(model, X_test)\n",
    "# Format correctly in new DataFrame: prediction_df\n",
    "prediction_df = pd.DataFrame(\n",
    "    columns=pd.get_dummies(df[CATEGORIES]).columns,\n",
    "    index=X_test.index,\n",
    "    data=predictions\n",
    ")"
   ]
  },
  {
   "cell_type": "code",
   "execution_count": 5,
   "id": "cdade01c",
   "metadata": {},
   "outputs": [
    {
     "name": "stdout",
     "output_type": "stream",
     "text": [
      "[OrderedDict([('label', 'Position_Type_Substitute'), ('probability', '100%')]), OrderedDict([('label', 'Operating_Status_PreK-12 Operating'), ('probability', '100%')]), OrderedDict([('label', 'Object_Type_Benefits'), ('probability', '100%')]), OrderedDict([('label', 'Position_Type_Substitute'), ('probability', '100%')]), OrderedDict([('label', 'Operating_Status_PreK-12 Operating'), ('probability', '100%')]), OrderedDict([('label', 'Pre_K_NO_LABEL'), ('probability', '100%')]), OrderedDict([('label', 'Object_Type_Benefits'), ('probability', '99%')]), OrderedDict([('label', 'Operating_Status_PreK-12 Operating'), ('probability', '99%')]), OrderedDict([('label', 'Pre_K_NO_LABEL'), ('probability', '100%')]), OrderedDict([('label', 'Reporting_Non-School'), ('probability', '100%')]), OrderedDict([('label', 'Object_Type_Other Compensation/Stipend'), ('probability', '100%')]), OrderedDict([('label', 'Sharing_Shared Services'), ('probability', '100%')]), OrderedDict([('label', 'Reporting_Non-School'), ('probability', '100%')]), OrderedDict([('label', 'Function_Enrichment'), ('probability', '100%')]), OrderedDict([('label', 'Object_Type_Other Compensation/Stipend'), ('probability', '100%')]), OrderedDict([('label', 'Reporting_NO_LABEL'), ('probability', '100%')]), OrderedDict([('label', 'Object_Type_NO_LABEL'), ('probability', '100%')]), OrderedDict([('label', 'Use_NO_LABEL'), ('probability', '100%')]), OrderedDict([('label', 'Object_Type_Travel & Conferences'), ('probability', '98%')]), OrderedDict([('label', 'Operating_Status_PreK-12 Operating'), ('probability', '99%')]), OrderedDict([('label', 'Pre_K_NO_LABEL'), ('probability', '100%')]), OrderedDict([('label', 'Operating_Status_PreK-12 Operating'), ('probability', '100%')]), OrderedDict([('label', 'Reporting_School'), ('probability', '100%')]), OrderedDict([('label', 'Sharing_School Reported'), ('probability', '100%')]), OrderedDict([('label', 'Pre_K_NO_LABEL'), ('probability', '100%')]), OrderedDict([('label', 'Object_Type_Other Compensation/Stipend'), ('probability', '100%')]), OrderedDict([('label', 'Operating_Status_PreK-12 Operating'), ('probability', '100%')]), OrderedDict([('label', 'Position_Type_Speech Therapist'), ('probability', '100%')]), OrderedDict([('label', 'Student_Type_Special Education'), ('probability', '100%')]), OrderedDict([('label', 'Object_Type_Benefits'), ('probability', '100%')]), OrderedDict([('label', 'Use_Instruction'), ('probability', '99%')]), OrderedDict([('label', 'Position_Type_NO_LABEL'), ('probability', '100%')]), OrderedDict([('label', 'Student_Type_NO_LABEL'), ('probability', '100%')]), OrderedDict([('label', 'Operating_Status_PreK-12 Operating'), ('probability', '80%')]), OrderedDict([('label', 'Position_Type_NO_LABEL'), ('probability', '88%')]), OrderedDict([('label', 'Student_Type_NO_LABEL'), ('probability', '91%')]), OrderedDict([('label', 'Reporting_School'), ('probability', '100%')]), OrderedDict([('label', 'Sharing_School Reported'), ('probability', '100%')]), OrderedDict([('label', 'Pre_K_NO_LABEL'), ('probability', '100%')]), OrderedDict([('label', 'Function_Physical Health & Services'), ('probability', '100%')]), OrderedDict([('label', 'Pre_K_NO_LABEL'), ('probability', '100%')]), OrderedDict([('label', 'Position_Type_Physical Therapist'), ('probability', '100%')]), OrderedDict([('label', 'Operating_Status_PreK-12 Operating'), ('probability', '100%')]), OrderedDict([('label', 'Object_Type_Other Compensation/Stipend'), ('probability', '100%')]), OrderedDict([('label', 'Pre_K_NO_LABEL'), ('probability', '100%')]), OrderedDict([('label', 'Use_NO_LABEL'), ('probability', '46%')]), OrderedDict([('label', 'Operating_Status_PreK-12 Operating'), ('probability', '57%')]), OrderedDict([('label', 'Pre_K_Non PreK'), ('probability', '71%')])]\n",
      "Index(['Function_Aides Compensation', 'Function_Career & Academic Counseling',\n",
      "       'Function_Communications', 'Function_Curriculum Development',\n",
      "       'Function_Data Processing & Information Services',\n",
      "       'Function_Development & Fundraising', 'Function_Enrichment',\n",
      "       'Function_Extended Time & Tutoring',\n",
      "       'Function_Facilities & Maintenance', 'Function_Facilities Planning',\n",
      "       ...\n",
      "       'Object_Type_Rent/Utilities', 'Object_Type_Substitute Compensation',\n",
      "       'Object_Type_Supplies/Materials', 'Object_Type_Travel & Conferences',\n",
      "       'Pre_K_NO_LABEL', 'Pre_K_Non PreK', 'Pre_K_PreK',\n",
      "       'Operating_Status_Non-Operating',\n",
      "       'Operating_Status_Operating, Not PreK-12',\n",
      "       'Operating_Status_PreK-12 Operating'],\n",
      "      dtype='object', length=104)\n"
     ]
    }
   ],
   "source": [
    "top_n_pred = top_n_predictions_ids(predictions)\n",
    "#predicted_sorted = predictions[np.arange(top_n_pred.shape[0]),top_n_pred.T].T\n",
    "formatted_predictions = format_predictions(X_test, top_n_pred, predictions, prediction_df.columns, model.classes_)\n",
    "print(formatted_predictions)\n",
    "print(prediction_df.columns)"
   ]
  },
  {
   "cell_type": "code",
   "execution_count": 7,
   "id": "a8f0d2c1",
   "metadata": {},
   "outputs": [
    {
     "name": "stdout",
     "output_type": "stream",
     "text": [
      "['Function_Aides Compensation', 'Function_Career & Academic Counseling', 'Function_Communications', 'Function_Curriculum Development', 'Function_Data Processing & Information Services', 'Function_Development & Fundraising', 'Function_Enrichment', 'Function_Extended Time & Tutoring', 'Function_Facilities & Maintenance', 'Function_Facilities Planning', 'Function_Finance, Budget, Purchasing & Distribution', 'Function_Food Services', 'Function_Governance', 'Function_Human Resources', 'Function_Instructional Materials & Supplies', 'Function_Insurance', 'Function_Legal', 'Function_Library & Media', 'Function_NO_LABEL', 'Function_Other Compensation', 'Function_Other Non-Compensation', 'Function_Parent & Community Relations', 'Function_Physical Health & Services', 'Function_Professional Development', 'Function_Recruitment', 'Function_Research & Accountability', 'Function_School Administration', 'Function_School Supervision', 'Function_Security & Safety', 'Function_Social & Emotional', 'Function_Special Population Program Management & Support', 'Function_Student Assignment', 'Function_Student Transportation', 'Function_Substitute Compensation', 'Function_Teacher Compensation', 'Function_Untracked Budget Set-Aside', 'Function_Utilities', 'Use_Business Services', 'Use_ISPD', 'Use_Instruction', 'Use_Leadership', 'Use_NO_LABEL', 'Use_O&M', 'Use_Pupil Services & Enrichment', 'Use_Untracked Budget Set-Aside', 'Sharing_Leadership & Management', 'Sharing_NO_LABEL', 'Sharing_School Reported', 'Sharing_School on Central Budgets', 'Sharing_Shared Services', 'Reporting_NO_LABEL', 'Reporting_Non-School', 'Reporting_School', 'Student_Type_Alternative', 'Student_Type_At Risk', 'Student_Type_ELL', 'Student_Type_Gifted', 'Student_Type_NO_LABEL', 'Student_Type_Poverty', 'Student_Type_PreK', 'Student_Type_Special Education', 'Student_Type_Unspecified', 'Position_Type_(Exec) Director', 'Position_Type_Area Officers', 'Position_Type_Club Advisor/Coach', 'Position_Type_Coordinator/Manager', 'Position_Type_Custodian', 'Position_Type_Guidance Counselor', 'Position_Type_Instructional Coach', 'Position_Type_Librarian', 'Position_Type_NO_LABEL', 'Position_Type_Non-Position', 'Position_Type_Nurse', 'Position_Type_Nurse Aide', 'Position_Type_Occupational Therapist', 'Position_Type_Other', 'Position_Type_Physical Therapist', 'Position_Type_Principal', 'Position_Type_Psychologist', 'Position_Type_School Monitor/Security', 'Position_Type_Sec/Clerk/Other Admin', 'Position_Type_Social Worker', 'Position_Type_Speech Therapist', 'Position_Type_Substitute', 'Position_Type_TA', 'Position_Type_Teacher', 'Position_Type_Vice Principal', 'Object_Type_Base Salary/Compensation', 'Object_Type_Benefits', 'Object_Type_Contracted Services', 'Object_Type_Equipment & Equipment Lease', 'Object_Type_NO_LABEL', 'Object_Type_Other Compensation/Stipend', 'Object_Type_Other Non-Compensation', 'Object_Type_Rent/Utilities', 'Object_Type_Substitute Compensation', 'Object_Type_Supplies/Materials', 'Object_Type_Travel & Conferences', 'Pre_K_NO_LABEL', 'Pre_K_Non PreK', 'Pre_K_PreK', 'Operating_Status_Non-Operating', 'Operating_Status_Operating, Not PreK-12', 'Operating_Status_PreK-12 Operating']\n"
     ]
    }
   ],
   "source": [
    "lst = [lsta for lsta in prediction_df.columns]\n",
    "print(lst)"
   ]
  },
  {
   "cell_type": "code",
   "execution_count": null,
   "id": "31e66ee8",
   "metadata": {},
   "outputs": [],
   "source": []
  }
 ],
 "metadata": {
  "kernelspec": {
   "display_name": "Python 3 (ipykernel)",
   "language": "python",
   "name": "python3"
  },
  "language_info": {
   "codemirror_mode": {
    "name": "ipython",
    "version": 3
   },
   "file_extension": ".py",
   "mimetype": "text/x-python",
   "name": "python",
   "nbconvert_exporter": "python",
   "pygments_lexer": "ipython3",
   "version": "3.10.0"
  }
 },
 "nbformat": 4,
 "nbformat_minor": 5
}
