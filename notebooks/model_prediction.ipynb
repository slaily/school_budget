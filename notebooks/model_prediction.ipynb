{
 "cells": [
  {
   "cell_type": "code",
   "execution_count": 1,
   "id": "a8c27c22",
   "metadata": {},
   "outputs": [],
   "source": [
    "import sys\n",
    "\n",
    "from os import getcwd\n",
    "from os.path import dirname, abspath\n",
    "\n",
    "\n",
    "sys.path.append(dirname((abspath(getcwd()))))"
   ]
  },
  {
   "cell_type": "code",
   "execution_count": 2,
   "id": "542931b7",
   "metadata": {},
   "outputs": [],
   "source": [
    "import numpy as np\n",
    "import pandas as pd\n",
    "\n",
    "from joblib import load\n",
    "\n",
    "from school_budget.config import LABELS\n",
    "from school_budget.data import multilabel_sample_dataframe, multilabel_train_test_split\n",
    "from school_budget.models import predict, top_n_predictions_ids, format_predictions"
   ]
  },
  {
   "cell_type": "code",
   "execution_count": 3,
   "id": "394e7bdd",
   "metadata": {},
   "outputs": [],
   "source": [
    "df = pd.read_csv(\"../datasets/TrainingData.csv\", index_col=0)\n",
    "NON_LABELS = [c for c in df.columns if c not in LABELS]\n",
    "SAMPLE_SIZE = 40000\n",
    "sampling = multilabel_sample_dataframe(\n",
    "    df,\n",
    "    pd.get_dummies(df[LABELS]),\n",
    "    size=SAMPLE_SIZE,\n",
    "    min_count=25,\n",
    "    seed=43\n",
    ")\n",
    "dummy_labels = pd.get_dummies(sampling[LABELS])\n",
    "X_train, X_test, y_train, y_test = multilabel_train_test_split(\n",
    "    sampling[NON_LABELS],\n",
    "    dummy_labels,\n",
    "    0.2,\n",
    "    min_count=3,\n",
    "    seed=43\n",
    ")"
   ]
  },
  {
   "cell_type": "code",
   "execution_count": 4,
   "id": "8e5b7db0",
   "metadata": {},
   "outputs": [],
   "source": [
    "model = load(\"model-1.1.0.joblib\")\n",
    "predictions = predict(model, X_test)\n",
    "# Format correctly in new DataFrame: prediction_df\n",
    "prediction_df = pd.DataFrame(\n",
    "    columns=pd.get_dummies(df[LABELS]).columns,\n",
    "    index=X_test.index,\n",
    "    data=predictions\n",
    ")"
   ]
  },
  {
   "cell_type": "code",
   "execution_count": 6,
   "id": "cdade01c",
   "metadata": {},
   "outputs": [
    {
     "name": "stdout",
     "output_type": "stream",
     "text": [
      "[OrderedDict([('label', 'Position_Type_Substitute'), ('probability', '100%')]), OrderedDict([('label', 'Operating_Status_PreK-12 Operating'), ('probability', '100%')]), OrderedDict([('label', 'Object_Type_Benefits'), ('probability', '100%')]), OrderedDict([('label', 'Position_Type_Substitute'), ('probability', '100%')]), OrderedDict([('label', 'Operating_Status_PreK-12 Operating'), ('probability', '100%')]), OrderedDict([('label', 'Pre_K_NO_LABEL'), ('probability', '100%')]), OrderedDict([('label', 'Object_Type_Benefits'), ('probability', '99%')]), OrderedDict([('label', 'Operating_Status_PreK-12 Operating'), ('probability', '99%')]), OrderedDict([('label', 'Pre_K_NO_LABEL'), ('probability', '100%')]), OrderedDict([('label', 'Reporting_Non-School'), ('probability', '100%')]), OrderedDict([('label', 'Object_Type_Other Compensation/Stipend'), ('probability', '100%')]), OrderedDict([('label', 'Sharing_Shared Services'), ('probability', '100%')]), OrderedDict([('label', 'Reporting_Non-School'), ('probability', '100%')]), OrderedDict([('label', 'Function_Enrichment'), ('probability', '100%')]), OrderedDict([('label', 'Object_Type_Other Compensation/Stipend'), ('probability', '100%')]), OrderedDict([('label', 'Reporting_NO_LABEL'), ('probability', '100%')]), OrderedDict([('label', 'Object_Type_NO_LABEL'), ('probability', '100%')]), OrderedDict([('label', 'Use_NO_LABEL'), ('probability', '100%')]), OrderedDict([('label', 'Object_Type_Travel & Conferences'), ('probability', '98%')]), OrderedDict([('label', 'Operating_Status_PreK-12 Operating'), ('probability', '99%')]), OrderedDict([('label', 'Pre_K_NO_LABEL'), ('probability', '100%')]), OrderedDict([('label', 'Operating_Status_PreK-12 Operating'), ('probability', '100%')]), OrderedDict([('label', 'Reporting_School'), ('probability', '100%')]), OrderedDict([('label', 'Sharing_School Reported'), ('probability', '100%')]), OrderedDict([('label', 'Pre_K_NO_LABEL'), ('probability', '100%')]), OrderedDict([('label', 'Object_Type_Other Compensation/Stipend'), ('probability', '100%')]), OrderedDict([('label', 'Operating_Status_PreK-12 Operating'), ('probability', '100%')]), OrderedDict([('label', 'Position_Type_Speech Therapist'), ('probability', '100%')]), OrderedDict([('label', 'Student_Type_Special Education'), ('probability', '100%')]), OrderedDict([('label', 'Object_Type_Benefits'), ('probability', '100%')]), OrderedDict([('label', 'Use_Instruction'), ('probability', '99%')]), OrderedDict([('label', 'Position_Type_NO_LABEL'), ('probability', '100%')]), OrderedDict([('label', 'Student_Type_NO_LABEL'), ('probability', '100%')]), OrderedDict([('label', 'Operating_Status_PreK-12 Operating'), ('probability', '80%')]), OrderedDict([('label', 'Position_Type_NO_LABEL'), ('probability', '88%')]), OrderedDict([('label', 'Student_Type_NO_LABEL'), ('probability', '91%')]), OrderedDict([('label', 'Reporting_School'), ('probability', '100%')]), OrderedDict([('label', 'Sharing_School Reported'), ('probability', '100%')]), OrderedDict([('label', 'Pre_K_NO_LABEL'), ('probability', '100%')]), OrderedDict([('label', 'Function_Physical Health & Services'), ('probability', '100%')]), OrderedDict([('label', 'Pre_K_NO_LABEL'), ('probability', '100%')]), OrderedDict([('label', 'Position_Type_Physical Therapist'), ('probability', '100%')]), OrderedDict([('label', 'Operating_Status_PreK-12 Operating'), ('probability', '100%')]), OrderedDict([('label', 'Object_Type_Other Compensation/Stipend'), ('probability', '100%')]), OrderedDict([('label', 'Pre_K_NO_LABEL'), ('probability', '100%')]), OrderedDict([('label', 'Use_NO_LABEL'), ('probability', '46%')]), OrderedDict([('label', 'Operating_Status_PreK-12 Operating'), ('probability', '57%')]), OrderedDict([('label', 'Pre_K_Non PreK'), ('probability', '71%')])]\n"
     ]
    }
   ],
   "source": [
    "top_n_pred = top_n_predictions_ids(predictions)\n",
    "#predicted_sorted = predictions[np.arange(top_n_pred.shape[0]),top_n_pred.T].T\n",
    "formatted_predictions = format_predictions(X_test, top_n_pred, predictions, prediction_df.columns, model.classes_)\n",
    "print(formatted_predictions)"
   ]
  }
 ],
 "metadata": {
  "kernelspec": {
   "display_name": "Python 3 (ipykernel)",
   "language": "python",
   "name": "python3"
  },
  "language_info": {
   "codemirror_mode": {
    "name": "ipython",
    "version": 3
   },
   "file_extension": ".py",
   "mimetype": "text/x-python",
   "name": "python",
   "nbconvert_exporter": "python",
   "pygments_lexer": "ipython3",
   "version": "3.10.0"
  }
 },
 "nbformat": 4,
 "nbformat_minor": 5
}
